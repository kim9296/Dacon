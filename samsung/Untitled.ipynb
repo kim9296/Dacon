{
 "cells": [
  {
   "cell_type": "code",
   "execution_count": 8,
   "id": "6a24f1bd",
   "metadata": {},
   "outputs": [],
   "source": [
    "import pandas as pd\n",
    "from rdkit import Chem\n",
    "from rdkit.Chem import Draw"
   ]
  },
  {
   "cell_type": "code",
   "execution_count": 2,
   "id": "9bda63ea",
   "metadata": {},
   "outputs": [],
   "source": [
    "df = pd.read_csv('data/train_set.ReorgE.csv')"
   ]
  },
  {
   "cell_type": "code",
   "execution_count": 3,
   "id": "c7d1856d",
   "metadata": {},
   "outputs": [
    {
     "data": {
      "text/html": [
       "<div>\n",
       "<style scoped>\n",
       "    .dataframe tbody tr th:only-of-type {\n",
       "        vertical-align: middle;\n",
       "    }\n",
       "\n",
       "    .dataframe tbody tr th {\n",
       "        vertical-align: top;\n",
       "    }\n",
       "\n",
       "    .dataframe thead th {\n",
       "        text-align: right;\n",
       "    }\n",
       "</style>\n",
       "<table border=\"1\" class=\"dataframe\">\n",
       "  <thead>\n",
       "    <tr style=\"text-align: right;\">\n",
       "      <th></th>\n",
       "      <th>index</th>\n",
       "      <th>SMILES</th>\n",
       "      <th>Reorg_g</th>\n",
       "      <th>Reorg_ex</th>\n",
       "    </tr>\n",
       "  </thead>\n",
       "  <tbody>\n",
       "    <tr>\n",
       "      <th>0</th>\n",
       "      <td>train_0</td>\n",
       "      <td>CC[C@H]1CCCCN1C(=O)[C@@H](C)OC(=O)c1c(C)oc(-n2...</td>\n",
       "      <td>0.631486</td>\n",
       "      <td>0.535060</td>\n",
       "    </tr>\n",
       "    <tr>\n",
       "      <th>1</th>\n",
       "      <td>train_1</td>\n",
       "      <td>O[C@@H](CNC1CC1)CN1CCc2sccc2C1</td>\n",
       "      <td>0.825901</td>\n",
       "      <td>1.116781</td>\n",
       "    </tr>\n",
       "    <tr>\n",
       "      <th>2</th>\n",
       "      <td>train_2</td>\n",
       "      <td>N#CCCNC(=O)[C@@]1(O)CCSC1</td>\n",
       "      <td>1.463943</td>\n",
       "      <td>0.964848</td>\n",
       "    </tr>\n",
       "    <tr>\n",
       "      <th>3</th>\n",
       "      <td>train_3</td>\n",
       "      <td>COC[C@H]1CN(c2ccc(OCC[C@@H](C)O)cc2)C(=O)O1</td>\n",
       "      <td>0.166669</td>\n",
       "      <td>0.161458</td>\n",
       "    </tr>\n",
       "    <tr>\n",
       "      <th>4</th>\n",
       "      <td>train_4</td>\n",
       "      <td>N#Cc1c(-c2ccccc2OCC(N)=O)[nH]c(C(N)=O)c1N</td>\n",
       "      <td>0.313820</td>\n",
       "      <td>0.338862</td>\n",
       "    </tr>\n",
       "    <tr>\n",
       "      <th>...</th>\n",
       "      <td>...</td>\n",
       "      <td>...</td>\n",
       "      <td>...</td>\n",
       "      <td>...</td>\n",
       "    </tr>\n",
       "    <tr>\n",
       "      <th>18152</th>\n",
       "      <td>train_18152</td>\n",
       "      <td>CC(=O)Nc1ccc2ccc3cccc4ccc1c2c34</td>\n",
       "      <td>0.146917</td>\n",
       "      <td>0.143084</td>\n",
       "    </tr>\n",
       "    <tr>\n",
       "      <th>18153</th>\n",
       "      <td>train_18153</td>\n",
       "      <td>CC(C)(C)c1ccccc1N(c1ccccc1)c1ccc(S(=O)(=O)c2cc...</td>\n",
       "      <td>0.612898</td>\n",
       "      <td>0.500668</td>\n",
       "    </tr>\n",
       "    <tr>\n",
       "      <th>18154</th>\n",
       "      <td>train_18154</td>\n",
       "      <td>CN(C)c1ccc(C(=O)Nc2ccccc2)cc1</td>\n",
       "      <td>1.218777</td>\n",
       "      <td>1.048954</td>\n",
       "    </tr>\n",
       "    <tr>\n",
       "      <th>18155</th>\n",
       "      <td>train_18155</td>\n",
       "      <td>c1ccc(N(c2ccccc2)c2ccc(-c3ncc(-c4ccc(-c5cnc(-c...</td>\n",
       "      <td>0.145292</td>\n",
       "      <td>0.182589</td>\n",
       "    </tr>\n",
       "    <tr>\n",
       "      <th>18156</th>\n",
       "      <td>train_18156</td>\n",
       "      <td>COCCC1(CCOC)c2cc(-c3ccc(OC)cc3)ccc2-c2ccc(-c3c...</td>\n",
       "      <td>0.252465</td>\n",
       "      <td>0.306627</td>\n",
       "    </tr>\n",
       "  </tbody>\n",
       "</table>\n",
       "<p>18157 rows × 4 columns</p>\n",
       "</div>"
      ],
      "text/plain": [
       "             index                                             SMILES  \\\n",
       "0          train_0  CC[C@H]1CCCCN1C(=O)[C@@H](C)OC(=O)c1c(C)oc(-n2...   \n",
       "1          train_1                     O[C@@H](CNC1CC1)CN1CCc2sccc2C1   \n",
       "2          train_2                          N#CCCNC(=O)[C@@]1(O)CCSC1   \n",
       "3          train_3        COC[C@H]1CN(c2ccc(OCC[C@@H](C)O)cc2)C(=O)O1   \n",
       "4          train_4          N#Cc1c(-c2ccccc2OCC(N)=O)[nH]c(C(N)=O)c1N   \n",
       "...            ...                                                ...   \n",
       "18152  train_18152                    CC(=O)Nc1ccc2ccc3cccc4ccc1c2c34   \n",
       "18153  train_18153  CC(C)(C)c1ccccc1N(c1ccccc1)c1ccc(S(=O)(=O)c2cc...   \n",
       "18154  train_18154                      CN(C)c1ccc(C(=O)Nc2ccccc2)cc1   \n",
       "18155  train_18155  c1ccc(N(c2ccccc2)c2ccc(-c3ncc(-c4ccc(-c5cnc(-c...   \n",
       "18156  train_18156  COCCC1(CCOC)c2cc(-c3ccc(OC)cc3)ccc2-c2ccc(-c3c...   \n",
       "\n",
       "        Reorg_g  Reorg_ex  \n",
       "0      0.631486  0.535060  \n",
       "1      0.825901  1.116781  \n",
       "2      1.463943  0.964848  \n",
       "3      0.166669  0.161458  \n",
       "4      0.313820  0.338862  \n",
       "...         ...       ...  \n",
       "18152  0.146917  0.143084  \n",
       "18153  0.612898  0.500668  \n",
       "18154  1.218777  1.048954  \n",
       "18155  0.145292  0.182589  \n",
       "18156  0.252465  0.306627  \n",
       "\n",
       "[18157 rows x 4 columns]"
      ]
     },
     "execution_count": 3,
     "metadata": {},
     "output_type": "execute_result"
    }
   ],
   "source": [
    "df"
   ]
  },
  {
   "cell_type": "code",
   "execution_count": 39,
   "id": "21521727",
   "metadata": {},
   "outputs": [
    {
     "data": {
      "image/png": "[encoded data removed]",
      "text/plain": [
       "<PIL.PngImagePlugin.PngImageFile image mode=RGB size=600x200>"
      ]
     },
     "execution_count": 39,
     "metadata": {},
     "output_type": "execute_result"
    }
   ],
   "source": [
    "i = 6\n",
    "mol1 = Chem.MolFromMolFile('data/mol_files/train_set/train_{}_ex.mol'.format(i))\n",
    "mol2 = Chem.MolFromMolFile('data/mol_files/train_set/train_{}_g.mol'.format(i))\n",
    "Draw.MolsToGridImage([mol1, mol2])"
   ]
  },
  {
   "cell_type": "code",
   "execution_count": 40,
   "id": "5dbe07c0",
   "metadata": {},
   "outputs": [
    {
     "name": "stdout",
     "output_type": "stream",
     "text": [
      "0.955649 0.77315 0.18249899999999997\n"
     ]
    }
   ],
   "source": [
    "print (df.loc[i,'Reorg_g'], df.loc[i,'Reorg_ex'], df.loc[i,'Reorg_g'] - df.loc[i,'Reorg_ex'])"
   ]
  },
  {
   "cell_type": "code",
   "execution_count": 41,
   "id": "0ac33868",
   "metadata": {},
   "outputs": [
    {
     "name": "stdout",
     "output_type": "stream",
     "text": [
      "Atoms:\n",
      "\t0 6 C chg: 0  deg: 1 exp: 1 imp: 3 hyb: 4 arom?: 0 chi: 0\n",
      "\t1 8 O chg: 0  deg: 2 exp: 2 imp: 0 hyb: 3 arom?: 0 chi: 0\n",
      "\t2 6 C chg: 0  deg: 3 exp: 4 imp: 0 hyb: 3 arom?: 1 chi: 0\n",
      "\t3 6 C chg: 0  deg: 2 exp: 3 imp: 1 hyb: 3 arom?: 1 chi: 0\n",
      "\t4 6 C chg: 0  deg: 2 exp: 3 imp: 1 hyb: 3 arom?: 1 chi: 0\n",
      "\t5 6 C chg: 0  deg: 3 exp: 4 imp: 0 hyb: 3 arom?: 1 chi: 0\n",
      "\t6 35 Br chg: 0  deg: 1 exp: 1 imp: 0 hyb: 4 arom?: 0 chi: 0\n",
      "\t7 6 C chg: 0  deg: 2 exp: 3 imp: 1 hyb: 3 arom?: 1 chi: 0\n",
      "\t8 6 C chg: 0  deg: 3 exp: 4 imp: 0 hyb: 3 arom?: 1 chi: 0\n",
      "\t9 6 C chg: 0  deg: 3 exp: 4 imp: 0 hyb: 3 arom?: 0 chi: 0\n",
      "\t10 8 O chg: 0  deg: 1 exp: 2 imp: 0 hyb: 3 arom?: 0 chi: 0\n",
      "\t11 7 N chg: 0  deg: 2 exp: 2 imp: 1 hyb: 3 arom?: 0 chi: 0\n",
      "\t12 6 C chg: 0  deg: 3 exp: 4 imp: 0 hyb: 3 arom?: 0 chi: 0\n",
      "\t13 16 S chg: 0  deg: 1 exp: 2 imp: 0 hyb: 3 arom?: 0 chi: 0\n",
      "\t14 7 N chg: 0  deg: 2 exp: 2 imp: 1 hyb: 3 arom?: 0 chi: 0\n",
      "\t15 6 C chg: 0  deg: 3 exp: 4 imp: 0 hyb: 3 arom?: 1 chi: 0\n",
      "\t16 6 C chg: 0  deg: 2 exp: 3 imp: 1 hyb: 3 arom?: 1 chi: 0\n",
      "\t17 6 C chg: 0  deg: 2 exp: 3 imp: 1 hyb: 3 arom?: 1 chi: 0\n",
      "\t18 6 C chg: 0  deg: 3 exp: 4 imp: 0 hyb: 3 arom?: 1 chi: 0\n",
      "\t19 6 C chg: 0  deg: 1 exp: 1 imp: 3 hyb: 4 arom?: 0 chi: 0\n",
      "\t20 6 C chg: 0  deg: 2 exp: 3 imp: 1 hyb: 3 arom?: 1 chi: 0\n",
      "\t21 6 C chg: 0  deg: 2 exp: 3 imp: 1 hyb: 3 arom?: 1 chi: 0\n",
      "Bonds:\n",
      "\t0 0->1 order: 1 conj?: 0 aromatic?: 0\n",
      "\t1 1->2 order: 1 conj?: 1 aromatic?: 0\n",
      "\t2 2->3 order: 12 conj?: 1 aromatic?: 1\n",
      "\t3 2->8 order: 12 conj?: 1 aromatic?: 1\n",
      "\t4 3->4 order: 12 conj?: 1 aromatic?: 1\n",
      "\t5 4->5 order: 12 conj?: 1 aromatic?: 1\n",
      "\t6 5->6 order: 1 conj?: 0 aromatic?: 0\n",
      "\t7 5->7 order: 12 conj?: 1 aromatic?: 1\n",
      "\t8 7->8 order: 12 conj?: 1 aromatic?: 1\n",
      "\t9 8->9 order: 1 conj?: 1 aromatic?: 0\n",
      "\t10 9->10 order: 2 conj?: 1 aromatic?: 0\n",
      "\t11 9->11 order: 1 conj?: 1 aromatic?: 0\n",
      "\t12 11->12 order: 1 conj?: 1 aromatic?: 0\n",
      "\t13 12->13 order: 2 conj?: 1 aromatic?: 0\n",
      "\t14 12->14 order: 1 conj?: 1 aromatic?: 0\n",
      "\t15 14->15 order: 1 conj?: 1 aromatic?: 0\n",
      "\t16 15->16 order: 12 conj?: 1 aromatic?: 1\n",
      "\t17 15->21 order: 12 conj?: 1 aromatic?: 1\n",
      "\t18 16->17 order: 12 conj?: 1 aromatic?: 1\n",
      "\t19 17->18 order: 12 conj?: 1 aromatic?: 1\n",
      "\t20 18->19 order: 1 conj?: 0 aromatic?: 0\n",
      "\t21 18->20 order: 12 conj?: 1 aromatic?: 1\n",
      "\t22 20->21 order: 12 conj?: 1 aromatic?: 1\n"
     ]
    }
   ],
   "source": [
    "mol1.Debug()"
   ]
  },
  {
   "cell_type": "code",
   "execution_count": null,
   "id": "be0b6475",
   "metadata": {},
   "outputs": [],
   "source": []
  }
 ],
 "metadata": {
  "kernelspec": {
   "display_name": "ML",
   "language": "python",
   "name": "ml"
  },
  "language_info": {
   "codemirror_mode": {
    "name": "ipython",
    "version": 3
   },
   "file_extension": ".py",
   "mimetype": "text/x-python",
   "name": "python",
   "nbconvert_exporter": "python",
   "pygments_lexer": "ipython3",
   "version": "3.7.12"
  }
 },
 "nbformat": 4,
 "nbformat_minor": 5
}
